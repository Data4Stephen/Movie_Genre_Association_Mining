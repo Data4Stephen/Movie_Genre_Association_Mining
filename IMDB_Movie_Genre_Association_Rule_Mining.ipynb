{
 "cells": [
  {
   "cell_type": "code",
   "execution_count": 26,
   "id": "c210a0a4-441f-4c95-9044-a10f35526f64",
   "metadata": {},
   "outputs": [],
   "source": [
    "import pandas as pd\n",
    "import matplotlib.pyplot as plt\n",
    "import numpy as np\n",
    "from mlxtend.frequent_patterns import apriori\n",
    "from mlxtend.frequent_patterns import association_rules\n",
    "\n",
    "from IPython.display import display"
   ]
  },
  {
   "cell_type": "code",
   "execution_count": 27,
   "id": "c533f73e-25d7-472f-b560-fb731b9b5416",
   "metadata": {},
   "outputs": [],
   "source": [
    "imdb_df = pd.read_csv(\"imdb_movies.csv\")"
   ]
  },
  {
   "cell_type": "code",
   "execution_count": 28,
   "id": "d5d096b4-fbb7-44dd-8212-0b417fe1e18f",
   "metadata": {
    "tags": []
   },
   "outputs": [],
   "source": [
    "df_max_scaled = imdb_df.copy()\n",
    "  \n",
    "# apply normalization techniques\n",
    "for row in df_max_scaled.revenue:\n",
    "    df_max_scaled.revenue = df_max_scaled.revenue / df_max_scaled.revenue.abs().max()\n",
    " \n",
    "# view normalized data\n",
    "# display(df_max_scaled)"
   ]
  },
  {
   "cell_type": "code",
   "execution_count": 29,
   "id": "bbfe4615-a5e4-4d46-b4f7-e499fb2520b9",
   "metadata": {},
   "outputs": [
    {
     "name": "stderr",
     "output_type": "stream",
     "text": [
      "/var/folders/wh/z8_k5k650_n1pyhxn124kt5c0000gn/T/ipykernel_25077/3286649269.py:1: FutureWarning: Indexing with multiple keys (implicitly converted to a tuple of keys) will be deprecated, use a list instead.\n",
      "  grouped_df = imdb_df.groupby(['genre'])['score','revenue'].mean().reset_index()\n"
     ]
    }
   ],
   "source": [
    "grouped_df = imdb_df.groupby(['genre'])['score','revenue'].mean().reset_index()"
   ]
  },
  {
   "cell_type": "code",
   "execution_count": 30,
   "id": "1935f5cc-8cd8-4e97-9b83-dc8fe47f3a65",
   "metadata": {
    "tags": []
   },
   "outputs": [
    {
     "name": "stdout",
     "output_type": "stream",
     "text": [
      "                                             genre      score       revenue\n",
      "0                                           Action  59.802326  1.962566e+08\n",
      "1                                Action, Adventure  62.166667  2.299563e+08\n",
      "2                     Action, Adventure, Animation  62.333333  5.480156e+08\n",
      "3             Action, Adventure, Animation, Comedy  69.000000  4.013459e+08\n",
      "4     Action, Adventure, Animation, Comedy, Family  68.000000  3.568136e+08\n",
      "...                                            ...        ...           ...\n",
      "2298                               Western, Horror  68.000000  4.758460e+05\n",
      "2299                      Western, Horror, Mystery  63.000000  5.486246e+08\n",
      "2300                              Western, Mystery  56.000000  2.780547e+08\n",
      "2301             Western, Mystery, Thriller, Drama  71.000000  1.580138e+08\n",
      "2302                             Western, Thriller  57.000000  4.096363e+08\n",
      "\n",
      "[2303 rows x 3 columns]\n"
     ]
    }
   ],
   "source": [
    "print(grouped_df)"
   ]
  },
  {
   "cell_type": "code",
   "execution_count": 31,
   "id": "c8f74a8d-a984-4df3-b3f0-60e512332fe0",
   "metadata": {},
   "outputs": [],
   "source": [
    "## Association Rule Mining\n",
    "\n",
    "## data prep\n",
    "genre_df = imdb_df[['genre']].copy()\n",
    "\n",
    "# Split the 'genre' column by comma and create new columns\n",
    "genres = genre_df['genre'].str.get_dummies(sep=',')\n",
    "\n",
    "# Combine dataframes\n",
    "df = pd.concat([genre_df,genres],axis=1).copy()\n",
    "\n",
    "#Drop old column\n",
    "df.drop(columns=['genre'], inplace=True)"
   ]
  },
  {
   "cell_type": "code",
   "execution_count": 32,
   "id": "c3a6d6a6-1b92-499e-ab69-b0001b6a6740",
   "metadata": {
    "tags": []
   },
   "outputs": [
    {
     "name": "stdout",
     "output_type": "stream",
     "text": [
      "       Action  Adventure  Animation  Comedy  Crime  Documentary  Drama  \\\n",
      "0           0          0          0       0      0            0      1   \n",
      "1           0          0          0       0      0            0      0   \n",
      "2           0          0          1       0      0            0      0   \n",
      "3           0          0          1       0      0            0      0   \n",
      "4           1          0          0       0      0            0      0   \n",
      "...       ...        ...        ...     ...    ...          ...    ...   \n",
      "10173       0          0          0       0      0            0      1   \n",
      "10174       1          0          0       0      0            0      0   \n",
      "10175       0          0          0       0      0            0      1   \n",
      "10176       1          0          0       0      0            0      0   \n",
      "10177       0          0          1       0      0            0      0   \n",
      "\n",
      "       Family  Fantasy  History  ...   History   Horror   Music   Mystery  \\\n",
      "0           0        0        0  ...         0        0       0         0   \n",
      "1           0        0        0  ...         0        0       0         0   \n",
      "2           0        0        0  ...         0        0       0         0   \n",
      "3           0        0        0  ...         0        0       0         0   \n",
      "4           0        0        0  ...         0        0       0         0   \n",
      "...       ...      ...      ...  ...       ...      ...     ...       ...   \n",
      "10173       0        0        0  ...         0        0       0         0   \n",
      "10174       0        0        0  ...         0        0       0         0   \n",
      "10175       0        0        0  ...         0        0       0         0   \n",
      "10176       0        0        0  ...         0        1       0         0   \n",
      "10177       0        0        0  ...         0        0       0         0   \n",
      "\n",
      "        Romance   Science Fiction   TV Movie   Thriller   War   Western  \n",
      "0             0                 0          0          0     0         0  \n",
      "1             0                 0          0          0     0         0  \n",
      "2             0                 0          0          0     0         0  \n",
      "3             0                 0          0          0     0         0  \n",
      "4             0                 0          0          0     0         0  \n",
      "...         ...               ...        ...        ...   ...       ...  \n",
      "10173         0                 0          0          0     0         0  \n",
      "10174         0                 0          0          0     0         0  \n",
      "10175         1                 0          0          1     0         0  \n",
      "10176         0                 1          0          1     0         0  \n",
      "10177         0                 0          0          0     0         0  \n",
      "\n",
      "[10178 rows x 38 columns]\n"
     ]
    }
   ],
   "source": [
    "print(df)"
   ]
  },
  {
   "cell_type": "code",
   "execution_count": 33,
   "id": "949d7af6-d088-4119-b55f-e87fccd0fa04",
   "metadata": {},
   "outputs": [
    {
     "name": "stderr",
     "output_type": "stream",
     "text": [
      "/Users/stephenjeffirs/anaconda3/lib/python3.10/site-packages/mlxtend/frequent_patterns/fpcommon.py:110: DeprecationWarning: DataFrames with non-bool types result in worse computationalperformance and their support might be discontinued in the future.Please use a DataFrame with bool type\n",
      "  warnings.warn(\n"
     ]
    }
   ],
   "source": [
    "# Set association rule parameters\n",
    "frequent_itemsets = apriori(df, min_support=0.01, use_colnames=True)\n",
    "rules = association_rules(frequent_itemsets, metric=\"confidence\", min_threshold=0.7)"
   ]
  },
  {
   "cell_type": "code",
   "execution_count": 34,
   "id": "21d4150a-7f1f-4632-bac4-90062b829136",
   "metadata": {},
   "outputs": [
    {
     "data": {
      "text/html": [
       "<div>\n",
       "<style scoped>\n",
       "    .dataframe tbody tr th:only-of-type {\n",
       "        vertical-align: middle;\n",
       "    }\n",
       "\n",
       "    .dataframe tbody tr th {\n",
       "        vertical-align: top;\n",
       "    }\n",
       "\n",
       "    .dataframe thead th {\n",
       "        text-align: right;\n",
       "    }\n",
       "</style>\n",
       "<table border=\"1\" class=\"dataframe\">\n",
       "  <thead>\n",
       "    <tr style=\"text-align: right;\">\n",
       "      <th></th>\n",
       "      <th>antecedents</th>\n",
       "      <th>consequents</th>\n",
       "      <th>antecedent support</th>\n",
       "      <th>consequent support</th>\n",
       "      <th>support</th>\n",
       "      <th>confidence</th>\n",
       "      <th>lift</th>\n",
       "      <th>leverage</th>\n",
       "      <th>conviction</th>\n",
       "      <th>zhangs_metric</th>\n",
       "    </tr>\n",
       "  </thead>\n",
       "  <tbody>\n",
       "    <tr>\n",
       "      <th>0</th>\n",
       "      <td>( Thriller,  Adventure)</td>\n",
       "      <td>(Action)</td>\n",
       "      <td>0.015327</td>\n",
       "      <td>0.153763</td>\n",
       "      <td>0.010808</td>\n",
       "      <td>0.705128</td>\n",
       "      <td>4.585811</td>\n",
       "      <td>0.008451</td>\n",
       "      <td>2.869847</td>\n",
       "      <td>0.794108</td>\n",
       "    </tr>\n",
       "    <tr>\n",
       "      <th>1</th>\n",
       "      <td>(Animation,  Comedy)</td>\n",
       "      <td>( Family)</td>\n",
       "      <td>0.033209</td>\n",
       "      <td>0.105325</td>\n",
       "      <td>0.024956</td>\n",
       "      <td>0.751479</td>\n",
       "      <td>7.134847</td>\n",
       "      <td>0.021458</td>\n",
       "      <td>3.600001</td>\n",
       "      <td>0.889378</td>\n",
       "    </tr>\n",
       "    <tr>\n",
       "      <th>2</th>\n",
       "      <td>(Animation,  Comedy,  Adventure)</td>\n",
       "      <td>( Family)</td>\n",
       "      <td>0.013952</td>\n",
       "      <td>0.105325</td>\n",
       "      <td>0.011987</td>\n",
       "      <td>0.859155</td>\n",
       "      <td>8.157163</td>\n",
       "      <td>0.010517</td>\n",
       "      <td>6.352191</td>\n",
       "      <td>0.889823</td>\n",
       "    </tr>\n",
       "    <tr>\n",
       "      <th>3</th>\n",
       "      <td>( Family,  Comedy,  Adventure)</td>\n",
       "      <td>(Animation)</td>\n",
       "      <td>0.016408</td>\n",
       "      <td>0.087935</td>\n",
       "      <td>0.011987</td>\n",
       "      <td>0.730539</td>\n",
       "      <td>8.307738</td>\n",
       "      <td>0.010544</td>\n",
       "      <td>3.384775</td>\n",
       "      <td>0.894304</td>\n",
       "    </tr>\n",
       "  </tbody>\n",
       "</table>\n",
       "</div>"
      ],
      "text/plain": [
       "                        antecedents  consequents  antecedent support  \\\n",
       "0           ( Thriller,  Adventure)     (Action)            0.015327   \n",
       "1              (Animation,  Comedy)    ( Family)            0.033209   \n",
       "2  (Animation,  Comedy,  Adventure)    ( Family)            0.013952   \n",
       "3    ( Family,  Comedy,  Adventure)  (Animation)            0.016408   \n",
       "\n",
       "   consequent support   support  confidence      lift  leverage  conviction  \\\n",
       "0            0.153763  0.010808    0.705128  4.585811  0.008451    2.869847   \n",
       "1            0.105325  0.024956    0.751479  7.134847  0.021458    3.600001   \n",
       "2            0.105325  0.011987    0.859155  8.157163  0.010517    6.352191   \n",
       "3            0.087935  0.011987    0.730539  8.307738  0.010544    3.384775   \n",
       "\n",
       "   zhangs_metric  \n",
       "0       0.794108  \n",
       "1       0.889378  \n",
       "2       0.889823  \n",
       "3       0.894304  "
      ]
     },
     "metadata": {},
     "output_type": "display_data"
    }
   ],
   "source": [
    "# Show association rule output of movie genres\n",
    "display(rules)"
   ]
  },
  {
   "cell_type": "code",
   "execution_count": null,
   "id": "65a59377-2c7c-418f-ad1a-069a7815fdb0",
   "metadata": {},
   "outputs": [],
   "source": []
  }
 ],
 "metadata": {
  "kernelspec": {
   "display_name": "Python 3 (ipykernel)",
   "language": "python",
   "name": "python3"
  },
  "language_info": {
   "codemirror_mode": {
    "name": "ipython",
    "version": 3
   },
   "file_extension": ".py",
   "mimetype": "text/x-python",
   "name": "python",
   "nbconvert_exporter": "python",
   "pygments_lexer": "ipython3",
   "version": "3.10.9"
  }
 },
 "nbformat": 4,
 "nbformat_minor": 5
}
